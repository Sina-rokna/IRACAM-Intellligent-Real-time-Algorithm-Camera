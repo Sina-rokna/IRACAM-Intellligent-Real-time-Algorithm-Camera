{
  "nbformat": 4,
  "nbformat_minor": 0,
  "metadata": {
    "colab": {
      "provenance": []
    },
    "kernelspec": {
      "name": "python3",
      "display_name": "Python 3"
    },
    "language_info": {
      "name": "python"
    }
  },
  "cells": [
    {
      "cell_type": "code",
      "source": [
        "!pip install opencv_python\n",
        "!pip install loguru\n",
        "!pip install scikit-image\n",
        "!pip install tqdm\n",
        "!pip install torchvision\n",
        "!pip install Pillow\n",
        "!pip install thop\n",
        "!pip install ninja\n",
        "!pip install tensorboard\n",
        "!pip install filterpy\n",
        "!pip install h5py"
      ],
      "metadata": {
        "id": "cpwiYDBr7fHI"
      },
      "execution_count": null,
      "outputs": []
    },
    {
      "cell_type": "code",
      "source": [
        "# download val data\n",
        "!wget https://www.dropbox.com/scl/fi/8yobpj9sj3szlx8pihhtc/val.tar?rlkey=m4ztvtaknq7zm41vdykjcl2ff&dl=0"
      ],
      "metadata": {
        "id": "8ixEk6_Gfkhi"
      },
      "execution_count": null,
      "outputs": []
    },
    {
      "cell_type": "code",
      "source": [
        "# rename to val.tar before running this code\n",
        "!tar -xvf val.tar"
      ],
      "metadata": {
        "id": "DzdY9JatlRHL"
      },
      "execution_count": null,
      "outputs": []
    },
    {
      "cell_type": "code",
      "source": [
        "!git clone https://github.com/tusen-ai/TSTTC\n",
        "%cd TSTTC"
      ],
      "metadata": {
        "colab": {
          "base_uri": "https://localhost:8080/"
        },
        "id": "XaCKqoqr2qSb",
        "outputId": "0ef4e2ca-df20-44e0-9aeb-1563f225761f"
      },
      "execution_count": null,
      "outputs": [
        {
          "output_type": "stream",
          "name": "stdout",
          "text": [
            "Cloning into 'TSTTC'...\n",
            "remote: Enumerating objects: 89, done.\u001b[K\n",
            "remote: Counting objects: 100% (89/89), done.\u001b[K\n",
            "remote: Compressing objects: 100% (82/82), done.\u001b[K\n",
            "remote: Total 89 (delta 18), reused 62 (delta 2), pack-reused 0\u001b[K\n",
            "Receiving objects: 100% (89/89), 7.15 MiB | 1.44 MiB/s, done.\n",
            "Resolving deltas: 100% (18/18), done.\n",
            "/content/TSTTC\n"
          ]
        }
      ]
    },
    {
      "cell_type": "code",
      "source": [
        "%mkdir ../val2"
      ],
      "metadata": {
        "id": "CHAerpIUQXLq"
      },
      "execution_count": null,
      "outputs": []
    },
    {
      "cell_type": "code",
      "source": [
        "# add --data_path and anno_path to the args of eval.py, then give them to line 135\n",
        "!python tools/eval.py -f exp/Deep_TTC.py -c weights/Deep_TTC.pth --data_path ../val2 --anno_path ../val2 -d 1 -b 8 --fp16 --box_level"
      ],
      "metadata": {
        "colab": {
          "base_uri": "https://localhost:8080/"
        },
        "id": "GmDI4lcD3Amv",
        "outputId": "ed61c678-3a98-45c2-e997-146b7dfbed06"
      },
      "execution_count": null,
      "outputs": [
        {
          "output_type": "stream",
          "name": "stdout",
          "text": [
            "2023-11-06 19:37:29.581247: E tensorflow/compiler/xla/stream_executor/cuda/cuda_dnn.cc:9342] Unable to register cuDNN factory: Attempting to register factory for plugin cuDNN when one has already been registered\n",
            "2023-11-06 19:37:29.581309: E tensorflow/compiler/xla/stream_executor/cuda/cuda_fft.cc:609] Unable to register cuFFT factory: Attempting to register factory for plugin cuFFT when one has already been registered\n",
            "2023-11-06 19:37:29.585891: E tensorflow/compiler/xla/stream_executor/cuda/cuda_blas.cc:1518] Unable to register cuBLAS factory: Attempting to register factory for plugin cuBLAS when one has already been registered\n",
            "2023-11-06 19:37:29.986836: I tensorflow/core/platform/cpu_feature_guard.cc:182] This TensorFlow binary is optimized to use available CPU instructions in performance-critical operations.\n",
            "To enable the following instructions: AVX2 FMA, in other operations, rebuild TensorFlow with the appropriate compiler flags.\n",
            "2023-11-06 19:37:32.482834: W tensorflow/compiler/tf2tensorrt/utils/py_utils.cc:38] TF-TRT Warning: Could not find TensorRT\n",
            "/content/TSTTC/tools/eval.py:117: UserWarning: You have chosen to seed training. This will turn on the CUDNN deterministic setting, which can slow down your training considerably! You may see unexpected behavior when restarting from checkpoints.\n",
            "  warnings.warn(\n",
            "\u001b[32m2023-11-06 19:37:37\u001b[0m | \u001b[1mINFO    \u001b[0m | \u001b[36m__main__\u001b[0m:\u001b[36m132\u001b[0m - \u001b[1mArgs: Namespace(data_path='../val2', anno_path='../val2', experiment_name='Deep_TTC', name=None, dist_backend='nccl', dist_url=None, batch_size=8, devices=1, exp_file='exp/Deep_TTC.py', resume=False, ckpt='weights/Deep_TTC.pth', dataset='val', start_epoch=None, num_machines=1, machine_rank=0, fp16=True, cache=False, occupy=False, logger='tensorboard', opts=[], box_level=True)\u001b[0m\n",
            "\u001b[32m2023-11-06 19:37:37\u001b[0m | \u001b[1mINFO    \u001b[0m | \u001b[36mdata.ttc_dataset\u001b[0m:\u001b[36m91\u001b[0m - \u001b[1mLoading TSTTC dataset from ../val2...\u001b[0m\n",
            "loading annotations into memory...\n",
            "Done (t=0.01s)\n",
            "creating index...\n",
            "index created!\n",
            "/usr/local/lib/python3.10/dist-packages/torch/utils/data/dataloader.py:557: UserWarning: This DataLoader will create 8 worker processes in total. Our suggested max number of worker in current system is 2, which is smaller than what this DataLoader is going to create. Please be aware that excessive worker creation might get DataLoader running slow or even freeze, lower the worker number to avoid potential slowness/freeze if necessary.\n",
            "  warnings.warn(_create_warning_msg(\n",
            "\u001b[32m2023-11-06 19:37:37\u001b[0m | \u001b[1mINFO    \u001b[0m | \u001b[36m__main__\u001b[0m:\u001b[36m139\u001b[0m - \u001b[1mloading checkpoint from weights/Deep_TTC.pth\u001b[0m\n",
            "\u001b[32m2023-11-06 19:37:37\u001b[0m | \u001b[1mINFO    \u001b[0m | \u001b[36m__main__\u001b[0m:\u001b[36m143\u001b[0m - \u001b[1mloaded checkpoint done.\u001b[0m\n",
            "  0%|          | 0/11 [00:00<?, ?it/s]/content/TSTTC/core/evaluator.py:62: UserWarning: To copy construct from a tensor, it is recommended to use sourceTensor.clone().detach() or sourceTensor.clone().detach().requires_grad_(True), rather than torch.tensor(sourceTensor).\n",
            "  scale_list = torch.tensor(scale_list)\n",
            "/content/TSTTC/core/evaluator.py:63: UserWarning: To copy construct from a tensor, it is recommended to use sourceTensor.clone().detach() or sourceTensor.clone().detach().requires_grad_(True), rather than torch.tensor(sourceTensor).\n",
            "  pred_scales =  torch.tensor(torch.sum(scale_list[pred_bin] * pred_conf,dim=-1))\n",
            "/content/TSTTC/core/evaluator.py:67: UserWarning: To copy construct from a tensor, it is recommended to use sourceTensor.clone().detach() or sourceTensor.clone().detach().requires_grad_(True), rather than torch.tensor(sourceTensor).\n",
            "  ttc_gt = torch.tensor(ttc_gts_tensor).view(-1, 1).flatten()\n",
            "100%|##########| 11/11 [00:06<00:00,  1.73it/s]\n",
            "\u001b[32m2023-11-06 19:37:43\u001b[0m | \u001b[1mINFO    \u001b[0m | \u001b[36m__main__\u001b[0m:\u001b[36m149\u001b[0m - \u001b[1mAverage RSE:31.154200746106344, Average RTE:9.068736864851678\u001b[0m\n",
            "\u001b[32m2023-11-06 19:37:43\u001b[0m | \u001b[1mINFO    \u001b[0m | \u001b[36m__main__\u001b[0m:\u001b[36m150\u001b[0m - \u001b[1m-----------------------------\n",
            "ttc -20~0:\n",
            "total sample number: 6\n",
            "Ave relative ttc error: 7.54 %\n",
            "Ave abs ttc error: 1.02\n",
            "Ave motion in depth: 5.8371 %\n",
            "Ave abs scale error: 0.0006\n",
            "-----------------------------\n",
            "ttc 0~3:\n",
            "total sample number: 41\n",
            "Ave relative ttc error: 8.62 %\n",
            "Ave abs ttc error: 0.16\n",
            "Ave motion in depth: 42.7359 %\n",
            "Ave abs scale error: 0.0040\n",
            "-----------------------------\n",
            "ttc 3~6:\n",
            "total sample number: 34\n",
            "Ave relative ttc error: 9.92 %\n",
            "Ave abs ttc error: 0.40\n",
            "Ave motion in depth: 22.1708 %\n",
            "Ave abs scale error: 0.0022\n",
            "-----------------------------\n",
            "ttc 6~20:\n",
            "total sample number: 1\n",
            "Ave relative ttc error: 7.69 %\n",
            "Ave abs ttc error: 0.46\n",
            "Ave motion in depth: 13.6445 %\n",
            "Ave abs scale error: 0.0013\n",
            "-----------------------------\n",
            "Ave inference time: 0.3931\n",
            "\u001b[0m\n"
          ]
        }
      ]
    }
  ]
}